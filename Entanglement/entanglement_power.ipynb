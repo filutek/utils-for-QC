{
 "cells": [
  {
   "cell_type": "code",
   "execution_count": 1,
   "metadata": {},
   "outputs": [],
   "source": [
    "%load_ext autoreload\n",
    "%autoreload 2"
   ]
  },
  {
   "cell_type": "code",
   "execution_count": 3,
   "metadata": {},
   "outputs": [],
   "source": [
    "import numpy as np\n",
    "import qutip as qt\n",
    "import pandas as pd\n",
    "import matplotlib.pyplot as plt\n",
    "import pickle\n",
    "import time\n",
    "from scipy.optimize import NonlinearConstraint\n",
    "from tqdm import tqdm\n",
    "from matplotlib.cm import get_cmap\n",
    "from scipy.optimize import minimize\n",
    "from scipy.stats import pearsonr\n",
    "from scipy.stats import wasserstein_distance\n",
    "from scipy.special import binom\n",
    "import scipy.interpolate as interp\n",
    "import itertools\n",
    "from itertools import chain, combinations, permutations\n",
    "import os\n",
    "import fnmatch\n",
    "import ast\n",
    "import re\n",
    "from toqito.matrix_props import is_unitary\n",
    "# import networkx as nx\n",
    "# from networkx.generators.random_graphs import erdos_renyi_graph\n",
    "# from networkx.generators.classic import complete_graph\n",
    "import matplotlib.pyplot as plt\n",
    "# import networkx.generators.random_graphs as rg\n",
    "import scipy.special\n",
    "from matplotlib import rc\n",
    "# rc('font',**{'family':'sans-serif','sans-serif':['Helvetica']})\n",
    "# rc('text', usetex=True) "
   ]
  },
  {
   "cell_type": "code",
   "execution_count": 8,
   "metadata": {},
   "outputs": [],
   "source": [
    "X = qt.sigmax()\n",
    "Y = qt.sigmay()\n",
    "Z = qt.sigmaz()\n",
    "I = qt.identity(2)\n",
    "Had = qt.core.gates.snot()\n",
    "q0 = qt.basis(2,0)\n",
    "q1 = qt.basis(2,1)\n",
    "pl = Had*q0\n",
    "pi = np.pi\n",
    "sqrt=np.sqrt"
   ]
  },
  {
   "cell_type": "markdown",
   "metadata": {},
   "source": [
    "### Function to compute entangling power of unitary gates:\n",
    "* ent_power_general : calculates contribution for each partition of the system, by providing index/indices that is/are left untraced\n",
    "* ent_power_total_general : calculates total entangling power a the unitary, i.e. summation over all possible combinations \n",
    "\n",
    "Entanglement power paper that I base my considerations: https://doi.org/10.1088/1751-8121/ab749a (link to the journal version), arXiv: 1909.07709, https://arxiv.org/abs/1909.07709 (link to arXiv)"
   ]
  },
  {
   "cell_type": "code",
   "execution_count": 4,
   "metadata": {},
   "outputs": [],
   "source": [
    "def ent_power_general(U_choi, idx_left):\n",
    "    NQ = len(U_choi.dims[0][0])\n",
    "    idx_left = list(idx_left)\n",
    "    e = 0\n",
    "    sub_idx = np.arange(NQ, 2*NQ)\n",
    "    for i in range(NQ+1):\n",
    "        x_all = combinations(sub_idx,i)\n",
    "        for x in x_all:\n",
    "            tr_idx = idx_left + list(x)\n",
    "            U = U_choi.ptrace(tr_idx)\n",
    "            e += 2* ((2/3)**NQ)*(U*U).tr()\n",
    "    return 2 - e\n",
    "\n",
    "def ent_power_total_general(U, NQ):\n",
    "    U_choi = qt.to_choi(U)/(2**NQ)\n",
    "    subsystem_idx = np.arange(NQ)\n",
    "    EP = 0\n",
    "    for i in range(1,NQ//2+1):\n",
    "        q_all = combinations(subsystem_idx, i)\n",
    "        if NQ % 2 == 0 and i == NQ / 2:\n",
    "            q_all = list(q_all)\n",
    "            n_len = len(q_all)\n",
    "            q_all = q_all[:n_len//2]\n",
    "        for q in q_all:\n",
    "            EP += ent_power_general(U_choi, list(q))\n",
    "    return 1/(2**(NQ-1)-1) * EP"
   ]
  },
  {
   "cell_type": "markdown",
   "metadata": {},
   "source": [
    "Tangle"
   ]
  },
  {
   "cell_type": "code",
   "execution_count": null,
   "metadata": {},
   "outputs": [],
   "source": [
    "def tangle_full(psi):\n",
    "    rho = qt.ket2dm(psi)\n",
    "    p = len(rho.dims[0])\n",
    "    t = 0\n",
    "#     labels = list(range(p))\n",
    "    NQ = len(psi.dims[0])\n",
    "\n",
    "    subsystem_idx = np.arange(NQ)\n",
    "    EP = 0\n",
    "    N = 0\n",
    "    for i in range(1,NQ//2+1):\n",
    "        q_all = combinations(subsystem_idx, i)\n",
    "        if NQ % 2 == 0 and i == NQ / 2:\n",
    "            q_all = list(q_all)\n",
    "            n_len = len(q_all)\n",
    "            q_all = q_all[:n_len//2]\n",
    "        for q in q_all:\n",
    "            \n",
    "            N += 1\n",
    "            rho_p = rho.ptrace(q)\n",
    "#             print(f'q: {q}, rho : {rho_p}')\n",
    "            t += 2*(1-(rho_p*rho_p).tr())\n",
    "\n",
    "    return 1/N * t"
   ]
  },
  {
   "cell_type": "markdown",
   "metadata": {},
   "source": [
    "Coherence generating power"
   ]
  },
  {
   "cell_type": "code",
   "execution_count": 5,
   "metadata": {},
   "outputs": [],
   "source": [
    "def coherence_power(U: np.ndarray) -> float:\n",
    "    r\"\"\"\n",
    "    Compute the coherence-generating power (CGP) of a unitary operator in the computational basis (https://arxiv.org/abs/1906.09242).\n",
    "    This function uses 2-norm of coherence as the measure and computes the \"extremal\" CGP, i.e., averaged over the basis elements\n",
    "    (as opposed to the average over the entire simplex of incoherent states).\n",
    "\n",
    "    :raises ValueError: If input matrix is not a unitary.\n",
    "    :param U: A unitary matrix.\n",
    "    :return: A value between 0 and 1-1/d that corresponds to the CGP of U.\n",
    "    \"\"\"\n",
    "    \n",
    "    # extract dimensions of the unitary \n",
    "    dim = U.shape[0]\n",
    "    \n",
    "    # error if not a unitary\n",
    "    if is_unitary(U) != True:\n",
    "        raise ValueError(\"Not a unitary operator\")\n",
    "    \n",
    "    # Start computing CGP. X matrix has (i,j) element equal to |U_ij|^2\n",
    "    X = U * U.conj()\n",
    "    X = X.real\n",
    "\n",
    "    # singular values of the realigned unitary; no need to compute the U,V matrices.\n",
    "    cgp = 1- (np.trace(X @ X.T))/dim\n",
    "    cgp = cgp.real\n",
    "\n",
    "    return cgp"
   ]
  },
  {
   "cell_type": "markdown",
   "metadata": {},
   "source": [
    "### Function to compute maximal value of the EP for a given number of qubits"
   ]
  },
  {
   "cell_type": "code",
   "execution_count": 6,
   "metadata": {},
   "outputs": [],
   "source": [
    "def max_EP(NQ):\n",
    "    EP_max = 0\n",
    "    for j in range(NQ+1):\n",
    "        ep_max = 0\n",
    "        for l in range(1,NQ//2+1):\n",
    "            if l == NQ/2:\n",
    "                ep_max += binom(NQ,l)*(2**(NQ-abs(l-j))-1)/(2**(NQ-abs(l-j))*2)\n",
    "            else:\n",
    "                ep_max += binom(NQ,l)*(2**(NQ-abs(l-j))-1)/(2**(NQ-abs(l-j)))\n",
    "        EP_max += binom(NQ, j) * ep_max\n",
    "    EP_ub = 2-2*(2/3)**NQ * (2**NQ-EP_max/(2**(NQ-1)-1))\n",
    "    return EP_ub"
   ]
  },
  {
   "cell_type": "markdown",
   "metadata": {},
   "source": [
    "### Function to compute mean value of the EP for a given number of qubits"
   ]
  },
  {
   "cell_type": "code",
   "execution_count": 7,
   "metadata": {},
   "outputs": [],
   "source": [
    "def mean_EP(NQ):\n",
    "    return (2**NQ * (2**NQ + 1)-2*3**NQ)/((2**(NQ-1)-1)*(2**NQ+1))"
   ]
  },
  {
   "cell_type": "code",
   "execution_count": null,
   "metadata": {},
   "outputs": [],
   "source": []
  }
 ],
 "metadata": {
  "kernelspec": {
   "display_name": ".venv",
   "language": "python",
   "name": "python3"
  },
  "language_info": {
   "codemirror_mode": {
    "name": "ipython",
    "version": 3
   },
   "file_extension": ".py",
   "mimetype": "text/x-python",
   "name": "python",
   "nbconvert_exporter": "python",
   "pygments_lexer": "ipython3",
   "version": "3.11.10"
  }
 },
 "nbformat": 4,
 "nbformat_minor": 2
}
